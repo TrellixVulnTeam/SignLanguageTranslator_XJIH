{
 "cells": [
  {
   "cell_type": "code",
   "execution_count": 14,
   "metadata": {},
   "outputs": [],
   "source": [
    "import cv2 # opencv\n",
    "import os  # to open files etc\n",
    "import time # for dealing with realtime images\n",
    "import uuid # for names and image paths"
   ]
  },
  {
   "cell_type": "code",
   "execution_count": 15,
   "metadata": {},
   "outputs": [],
   "source": [
    "images_path = 'Tensorflow\\workspace\\images\\collectedimages'"
   ]
  },
  {
   "cell_type": "code",
   "execution_count": 16,
   "metadata": {},
   "outputs": [],
   "source": [
    "labels = ['hello', 'thanks', 'yes', 'no', 'iloveyou']\n",
    "number_imgs_each_label = 15"
   ]
  },
  {
   "cell_type": "code",
   "execution_count": 25,
   "metadata": {},
   "outputs": [
    {
     "name": "stdout",
     "output_type": "stream",
     "text": [
      "Collection images for hello\n",
      "Collection images for thanks\n",
      "Collection images for yes\n",
      "Collection images for no\n",
      "Collection images for iloveyou\n"
     ]
    }
   ],
   "source": [
    "# take images using computer camera\n",
    "for label in labels:\n",
    "    # make directory for each label\n",
    "    path = os.path.join(images_path, label)\n",
    "    if not os.path.exists(path):\n",
    "        os.mkdir(path, 0o666)\n",
    "    \n",
    "    # start a video capture to capture the images. 0 is the device number, default for computer\n",
    "    cap = cv2.VideoCapture(0)\n",
    "    \n",
    "    # print label and wait 5 seconds to get you into position before captuering\n",
    "    print('Collection images for {}'.format(label))\n",
    "    time.sleep(5)\n",
    "    \n",
    "    # loop as the number of images to collect them\n",
    "    for imgnum in range(number_imgs_each_label):\n",
    "        # frame is the image\n",
    "        ret, frame = cap.read()\n",
    "        \n",
    "        # the image name is its path\n",
    "        imagename = os.path.join(images_path, label, label+'.'+'{}.jpg'.format(str(uuid.uuid1())))\n",
    "        \n",
    "        # save the image\n",
    "        cv2.imwrite(imagename, frame)\n",
    "        \n",
    "        # show the taken image\n",
    "        cv2.imshow('frame', frame)\n",
    "        \n",
    "        # wait 2 seonds before taking the next one\n",
    "        time.sleep(2)\n",
    "        \n",
    "        # to break click on the break key\n",
    "        if cv2.waitKey(1) & 0xFF == ord('q'):\n",
    "            break\n",
    "    \n",
    "    # done, release the capture        \n",
    "    cap.release()\n",
    "    "
   ]
  },
  {
   "cell_type": "code",
   "execution_count": null,
   "metadata": {},
   "outputs": [],
   "source": []
  },
  {
   "cell_type": "code",
   "execution_count": null,
   "metadata": {},
   "outputs": [],
   "source": []
  }
 ],
 "metadata": {
  "kernelspec": {
   "display_name": "Python 3",
   "language": "python",
   "name": "python3"
  },
  "language_info": {
   "codemirror_mode": {
    "name": "ipython",
    "version": 3
   },
   "file_extension": ".py",
   "mimetype": "text/x-python",
   "name": "python",
   "nbconvert_exporter": "python",
   "pygments_lexer": "ipython3",
   "version": "3.7.6"
  }
 },
 "nbformat": 4,
 "nbformat_minor": 4
}
